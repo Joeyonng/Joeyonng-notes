{
 "cells": [
  {
   "cell_type": "markdown",
   "id": "db381d99-83c4-4e93-b59e-1a9b06fe5eb2",
   "metadata": {},
   "source": [
    "$$ \\nabla_{\\mathbf{x}} \\left( \\mathbf{b}^{T} \\mathbf{x} \\right) = \\mathbf{b} $$\n",
    "\n",
    "$$ \\nabla_{\\mathbf{x}} \\left( \\mathbf{x}^{T} \\mathbf{A} \\mathbf{x} \\right) = (\\mathbf{A} + \\mathbf{A}^{T}) \\mathbf{x} $$\n",
    "\n",
    "$$ \\nabla_{\\mathbf{x}} \\left( \\lVert \\mathbf{b} - \\mathbf{A}\\mathbf{x} \\rVert_{2}^{2} \\right) = 2 (\\mathbf{A}^{T} \\mathbf{A} \\mathbf{x} - \\mathbf{A}^{T} \\mathbf{b}) $$"
   ]
  },
  {
   "cell_type": "code",
   "execution_count": null,
   "id": "86b24d9d-8208-4327-8b78-11d9634abf28",
   "metadata": {},
   "outputs": [],
   "source": []
  }
 ],
 "metadata": {
  "kernelspec": {
   "display_name": "Python 3 (ipykernel)",
   "language": "python",
   "name": "python3"
  },
  "language_info": {
   "codemirror_mode": {
    "name": "ipython",
    "version": 3
   },
   "file_extension": ".py",
   "mimetype": "text/x-python",
   "name": "python",
   "nbconvert_exporter": "python",
   "pygments_lexer": "ipython3",
   "version": "3.10.7"
  }
 },
 "nbformat": 4,
 "nbformat_minor": 5
}
