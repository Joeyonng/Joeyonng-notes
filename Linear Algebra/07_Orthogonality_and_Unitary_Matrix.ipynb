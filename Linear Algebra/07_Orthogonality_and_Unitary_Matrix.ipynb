{
 "cells": [
  {
   "cell_type": "markdown",
   "id": "8830e28f-1d4e-40a8-8d69-a3fbc2357762",
   "metadata": {},
   "source": [
    "# Orthogonality\n",
    "\n",
    "A set of non-zero vectors $v_{1}, \\dots, v_{k}$ are orthogonal if \n",
    "\n",
    "$$\n",
    "\\langle v_{i}, v_{j} \\rangle = 0, \\quad \\forall i \\neq j.\n",
    "$$"
   ]
  },
  {
   "cell_type": "markdown",
   "id": "c917f81f-6e8a-4f92-869a-3221d6d8a657",
   "metadata": {},
   "source": [
    "## Properties of orthogonality\n",
    "\n",
    "If $v_{1}, \\dots, v_{k}$ are orthogonal vectors, "
   ]
  },
  {
   "cell_type": "markdown",
   "id": "4c552aa0-8cb0-4078-9507-87c66adc28de",
   "metadata": {},
   "source": [
    "(orthogonality-property-1)=\n",
    "\n",
    "- $v_{1}, \\dots, v_{k}$ are also linearly independent.\n",
    "\n",
    "    :::{admonition} Proof: $v_{1}, \\dots, v_{k}$ are also linearly independent\n",
    "    :class: dropdown \n",
    "    \n",
    "    TODO\n",
    "    :::"
   ]
  },
  {
   "cell_type": "markdown",
   "id": "cdd611aa-3231-4434-8526-3b9acdfca25b",
   "metadata": {},
   "source": [
    "(orthogonality-property-2)=\n",
    "\n",
    "- Suppose $\\mathcal{S}$ is a subspace with $\\text{dim} (S) = n$ \n",
    "    and $v_{1}, \\dots, v_{k} \\in \\mathcal{S}$, \n",
    "    then the set $\\{ v_{1}, \\dots, v_{k} \\}$ forms a basis of $\\mathcal{S}$.\n",
    "    Then, $\\{ v_{1}, \\dots, v_{k} \\}$ is an orthogonal basis of $\\mathcal{S}$.\n",
    "    \n",
    "    :::{admonition} Proof: Orthogonal basis\n",
    "    :class: dropdown \n",
    "    \n",
    "    TODO\n",
    "    :::"
   ]
  },
  {
   "cell_type": "markdown",
   "id": "6fa283c4-cd84-4ff7-9e92-2d174171b451",
   "metadata": {},
   "source": [
    "## Representing vectors using Orthogonal basis\n",
    "\n",
    "Suppose $\\mathcal{S}$ is a subspace and $\\{ v_{1}, \\dots, v_{n} \\}$ is an orthogonal basis of $\\mathcal{S}$, \n",
    "any vector $v \\in \\mathcal{S}$ can be represented using $\\{ v_{1}, \\dots, v_{n} \\}$:\n",
    "\n",
    "$$\n",
    "v = \\sum_{i=1}^{n} \\alpha_{i} v_{i},\n",
    "$$\n",
    "\n",
    "where \n",
    "\n",
    "$$\n",
    "\\alpha_{i} = \n",
    "\\frac{\n",
    "    \\langle v, v_{i} \\rangle\n",
    "}{\n",
    "    \\lVert v_{i} \\rVert_{ip}^{2}\n",
    "}\n",
    "$$\n",
    "\n",
    ":::{admonition} Proof: coefficients of orthogonal representation.\n",
    ":class: dropdown \n",
    "\n",
    "TODO\n",
    ":::"
   ]
  },
  {
   "cell_type": "markdown",
   "id": "df058a68-2144-4602-81e5-eb57070bad59",
   "metadata": {},
   "source": [
    "## Orthonormal vectors\n",
    "\n",
    "A set of vectors $v_{1}, \\dots, v_{k}$ are **orthonormal** if all vectors in the set are orthogonal to each other,\n",
    "and each vector has the inner product norm of 1.\n",
    "\n",
    "If $\\mathbf{a}_{1}, \\dots, \\mathbf{a}_{k} \\in \\mathbb{C}^{n}$ and are the columns of the matrix $\\mathbf{A} \\in \\mathbb{C}^{n \\times k}$, \n",
    "then $\\mathbf{A}$ has orthonormal columns and thus\n",
    "\n",
    "$$ \n",
    "\\mathbf{A}^{H} \\mathbf{A} = \\mathbf{I}.\n",
    "$$"
   ]
  },
  {
   "cell_type": "markdown",
   "id": "4c133654-a89a-42c2-b636-ebb2f3fb779e",
   "metadata": {},
   "source": [
    "# Unitary matrix\n",
    "\n",
    "A *square* complex (real) matrix $\\mathbf{U}$ is **unitary (orthogonal)** if and only if $\\mathbf{U}$ has orthonormal columns."
   ]
  },
  {
   "cell_type": "markdown",
   "id": "51a7fa4a-a416-4777-b21b-9db89231958a",
   "metadata": {},
   "source": [
    "## Properties of unitary matrix"
   ]
  },
  {
   "cell_type": "markdown",
   "id": "13fda70f-72d6-493a-8a0f-566d667ac19f",
   "metadata": {},
   "source": [
    "(unitary-matrix-property-1)=\n",
    "\n",
    "- The matrix $\\mathbf{U}$ is unitary if and only if $\\mathbf{U}^{H} = \\mathbf{U}^{-1}$.\n",
    "\n",
    "    :::{admonition} Proof: $\\mathbf{U}$ is unitary if and only if $\\mathbf{U}^{H} = \\mathbf{U}^{-1}$\n",
    "    :class: dropdown\n",
    "    \n",
    "    By definition, $\\mathbf{U}$ has orthogonal columns and thus linearly independent columns. \n",
    "    By the [rank property](rank-property-5), $\\mathbf{U}$ has a unique inverse matrix $\\mathbf{U}^{-1}$ such that\n",
    "    \n",
    "    $$\n",
    "    \\mathbf{U}^{-1} \\mathbf{U} = \\mathbf{I}_{n \\times n}.\n",
    "    $$\n",
    "    \n",
    "    Since by definition we know \n",
    "    \n",
    "    $$\n",
    "    \\mathbf{U}^{H} \\mathbf{U} = \\mathbf{I}_{n \\times n},\n",
    "    $$\n",
    "    \n",
    "    then it must follow that \n",
    "    \n",
    "    $$\n",
    "    \\mathbf{U}^{H} = \\mathbf{U}^{-1}.\n",
    "    $$\n",
    "    \n",
    "    The reverse can be proved backward following the procedure above. \n",
    "    :::"
   ]
  },
  {
   "cell_type": "markdown",
   "id": "383e73e5-87a2-45fb-bc51-77f02def59b8",
   "metadata": {},
   "source": [
    "(unitary-matrix-property-2)=\n",
    "\n",
    "- The matrix $\\mathbf{U}$ is unitary if and only if $\\mathbf{U}^{H} \\mathbf{U} = \\mathbf{U} \\mathbf{U}^{H} = \\mathbf{I}_{n \\times n}.$\n",
    "\n",
    "    :::{admonition} Proof: $\\mathbf{U}$ is unitary if and only if $\\mathbf{U}^{H} \\mathbf{U} = \\mathbf{U} \\mathbf{U}^{H} = \\mathbf{I}_{n \\times n}.$\n",
    "    :class: dropdown\n",
    "    \n",
    "    Following the [unitary matrix property](unitary-matrix-property-1), \n",
    "    the inverse $\\mathbf{U}^{-1}$ can be both left and right inverse\n",
    "    \n",
    "    $$\n",
    "    \\mathbf{U}^{-1} \\mathbf{U} = \\mathbf{U} \\mathbf{U}^{-1} = \\mathbf{I}. \n",
    "    $$\n",
    "    \n",
    "    Replacing $\\mathbf{U}^{-1}$ with $\\mathbf{U}^{H}$, we have the results:\n",
    "    \n",
    "    $$\n",
    "    \\mathbf{U}^{H} \\mathbf{U} = \\mathbf{U} \\mathbf{U}^{H} = \\mathbf{I}. \n",
    "    $$\n",
    "    :::"
   ]
  },
  {
   "cell_type": "markdown",
   "id": "91707e7a-6df3-4298-a010-4478db4c3601",
   "metadata": {},
   "source": [
    "(unitary-matrix-property-3)=\n",
    "\n",
    "- The matrix $\\mathbf{U}$ is unitary if and only if $\\mathbf{U} \\mathbf{x}$ doesn't change the length of $\\mathbf{x}$:\n",
    "\n",
    "    $$\n",
    "    \\lVert \\mathbf{U} \\mathbf{x} \\rVert = \\lVert \\mathbf{x} \\rVert.\n",
    "    $$\n",
    "    \n",
    "    :::{admonition} Proof: $\\mathbf{U}$ is unitary if and only if $\\lVert \\mathbf{U} \\mathbf{x} \\rVert = \\lVert \\mathbf{x} \\rVert, \\forall \\mathbf{x}$.\n",
    "    :class: dropdown\n",
    "    \n",
    "    $$\n",
    "    \\begin{aligned}\n",
    "    \\lVert \\mathbf{U} \\mathbf{x} \\rVert \n",
    "    & = \\sqrt{\\lVert \\mathbf{U} \\mathbf{x} \\rVert^{2}}\n",
    "    \\\\\n",
    "    & = \\sqrt{\\mathbf{x}^{H} \\mathbf{U}^{H} \\mathbf{U} \\mathbf{x}}\n",
    "    \\\\\n",
    "    & = \\sqrt{\\mathbf{x}^{H} \\mathbf{I} \\mathbf{x}}\n",
    "    & [\\mathbf{U}^{H} \\mathbf{U} = \\mathbf{I}]\n",
    "    \\\\\n",
    "    & = \\sqrt{\\mathbf{x}^{H} \\mathbf{x}}\n",
    "    \\\\\n",
    "    & = \\sqrt{\\lVert \\mathbf{x} \\rVert^{2}}\n",
    "    \\\\\n",
    "    & = \\lVert \\mathbf{x} \\rVert\n",
    "    \\end{aligned}\n",
    "    $$\n",
    "    :::"
   ]
  }
 ],
 "metadata": {
  "kernelspec": {
   "display_name": "Python 3 (ipykernel)",
   "language": "python",
   "name": "python3"
  },
  "language_info": {
   "codemirror_mode": {
    "name": "ipython",
    "version": 3
   },
   "file_extension": ".py",
   "mimetype": "text/x-python",
   "name": "python",
   "nbconvert_exporter": "python",
   "pygments_lexer": "ipython3",
   "version": "3.10.7"
  }
 },
 "nbformat": 4,
 "nbformat_minor": 5
}
