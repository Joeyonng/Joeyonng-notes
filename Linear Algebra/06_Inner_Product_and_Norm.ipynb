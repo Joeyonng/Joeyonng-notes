{
 "cells": [
  {
   "cell_type": "markdown",
   "id": "a5066e60-f4ea-49a0-8374-0eedfb799fc3",
   "metadata": {},
   "source": [
    "# Inner Product\n",
    "\n",
    "A vector space $\\mathcal{V}$ over field $\\mathbb{R}$ or $\\mathbb{C}$ is a inner product space if there exists a function called inner product, denoted \n",
    "\n",
    "$$\n",
    "\\langle \\cdot, \\cdot \\rangle: \\mathcal{V} \\times \\mathcal{V} \\to \\mathbb{R}\n",
    "$$\n",
    "\n",
    "with the following properties:\n",
    "\n",
    "- Linearity of first argument\n",
    "\n",
    "    $$\n",
    "    \\langle \\alpha x + \\alpha y, z \\rangle = \\alpha \\langle x, z \\rangle + \\alpha \\langle y, z \\rangle,\n",
    "    $$\n",
    "\n",
    "- Conjugate symmetry\n",
    "\n",
    "    $$\n",
    "    \\langle x, y \\rangle = \\overline{\\langle y, x \\rangle},\n",
    "    $$\n",
    "\n",
    "- Positive semi-definiteness\n",
    "\n",
    "    $$\n",
    "    \\langle x, x \\rangle \\geq 0,\n",
    "    $$\n",
    "    \n",
    "    $$\n",
    "    \\langle x, x \\rangle = 0 \\iff x = 0.\n",
    "    $$"
   ]
  },
  {
   "cell_type": "markdown",
   "id": "5b88affa-8278-4660-b4f2-e87c570ad68e",
   "metadata": {},
   "source": [
    "## Properties of inner product"
   ]
  },
  {
   "cell_type": "markdown",
   "id": "53856adf-7c35-4837-9293-d3f66fa227b0",
   "metadata": {},
   "source": [
    "(inner-product-property-1)=\n",
    "\n",
    "- $\\langle x, \\alpha y + \\alpha z \\rangle = \\overline{\\alpha} \\langle x, y \\rangle + \\overline{\\alpha} \\langle x, z \\rangle$\n",
    "\n",
    "    :::{admonition} Proof:\n",
    "    :class: dropdown\n",
    "    \n",
    "    $$\n",
    "    \\begin{aligned}\n",
    "    \\langle x, \\alpha y + \\alpha z \\rangle \n",
    "    & = \\overline{\\langle \\alpha y + \\alpha z, x \\rangle}\n",
    "    & [\\text{Conjugate sym}]\n",
    "    \\\\\n",
    "    & = \\overline{\\alpha \\langle y, x \\rangle + \\alpha \\langle z, x \\rangle}\n",
    "    & [\\text{Linearity of 1st}]\n",
    "    \\\\\n",
    "    & = \\overline{\\alpha} \\overline{\\langle y, x \\rangle} + \\overline{\\alpha} \\overline{\\langle z, x \\rangle}\n",
    "    \\\\\n",
    "    & = \\overline{\\alpha} \\langle x, y \\rangle + \\overline{\\alpha} \\langle x, z \\rangle\n",
    "    \\end{aligned}\n",
    "    $$\n",
    "    :::"
   ]
  },
  {
   "cell_type": "markdown",
   "id": "bb3fe408-b166-45f4-bb89-b2c701265443",
   "metadata": {},
   "source": [
    "(inner-product-property-2)=\n",
    "\n",
    "- If $\\langle x, y \\rangle = 0 $ for all $x \\in \\mathcal{V}$, \n",
    "    then $y = 0$.\n",
    "    \n",
    "    :::{admonition} Proof:\n",
    "    :class: dropdown\n",
    "    \n",
    "    TODO\n",
    "    :::"
   ]
  },
  {
   "cell_type": "markdown",
   "id": "289f269c-f2e0-47d0-bacc-375404c0e257",
   "metadata": {},
   "source": [
    "# Norm\n",
    "\n",
    "A norm of a vector in a inner product vector space $\\mathcal{V}$ is a function \n",
    "\n",
    "$$\n",
    "\\lVert \\cdot \\rVert \\to \\mathbb{R}^{+} \n",
    "$$\n",
    "\n",
    "with the following properties:\n",
    "\n",
    "- $\\lVert \\alpha v \\rVert = \\lvert \\alpha \\rvert \\lVert v \\rVert, \\alpha \\in \\mathbb{F}, v \\in \\mathcal{V}$,\n",
    "\n",
    "- $\\lVert v \\rVert = 0 \\iff v = 0$.\n",
    "\n",
    "- Triangle inequality: $\\lVert v_{1} + v_{2} \\rVert \\leq \\lVert v_{1} \\rVert + \\lVert v_{2} \\rVert$,\n",
    "\n",
    "A vector space $\\mathcal{V}$ equipped with a norm is called a normed vector space."
   ]
  },
  {
   "cell_type": "markdown",
   "id": "f2492091-1f63-415e-a6ce-3aec5ccc0c28",
   "metadata": {},
   "source": [
    "## Lp-norm\n",
    "\n",
    "Given $\\mathcal{V} = \\mathbb{R}^{n}$, \n",
    "define $\\lVert \\cdot \\rVert_{p}: \\mathcal{V} \\to \\mathbb{R}^{+}$ as \n",
    "\n",
    "$$\n",
    "\\lVert \\mathbf{v} \\rVert_{p} = \\left(\n",
    "    \\sum_{i=1}^{n} \\lvert v_{i} \\rvert^{p} \n",
    "\\right)^{\\frac{1}{p}}, \\quad \\mathbf{v} \\in \\mathcal{V},\n",
    "$$\n",
    "\n",
    "for $p \\geq 1$.\n",
    "\n",
    "- $L_{1}$ norm: \n",
    "\n",
    "    $$\n",
    "    \\lVert \\mathbf{v} \\rVert_{1} = \\sum_{i = 1}^{n} \\lvert v_{i} \\rvert\n",
    "    $$\n",
    "\n",
    "- $L_{2}$ norm:\n",
    "\n",
    "    $$\n",
    "    \\lVert \\mathbf{v} \\rVert_{2} = \\left( \\sum_{i = 1}^{n} \\lvert v_{i} \\rvert^{2} \\right)^{\\frac{1}{2}}\n",
    "    $$"
   ]
  },
  {
   "cell_type": "markdown",
   "id": "2fe38c95-95e3-4870-8276-afabbc0c8cf9",
   "metadata": {
    "tags": []
   },
   "source": [
    "## Norm induced by inner product\n",
    "\n",
    "Given an inner product vector space $\\mathcal{V}$, \n",
    "a norm $\\lVert \\cdot \\rVert_{ip}: \\mathcal{V} \\to R^{+}$ induced by its inner product is \n",
    "\n",
    "$$\n",
    "\\lVert v \\rVert_{ip} = \\sqrt{\\langle v, v \\rangle}, \\quad v \\in \\mathcal{V}.\n",
    "$$\n",
    "\n",
    "- For the vector space $\\mathbb{C}^{n}$, \n",
    "the norm induced by inner product is the same as $L_{2}$ norm\n",
    "\n",
    "    $$\n",
    "    \\lVert \\mathbf{v} \\rVert_{ip} = \\sqrt{ \\sum_{i=1}^{n} v_{i} v_{i} } = \\sqrt{ \\sum_{i=1}^{n} \\lvert v_{i} \\rvert^{2} } = \\lVert \\mathbf{v} \\lVert_{2}\n",
    "    $$\n",
    "    \n",
    "- Cauchy-Schwarz Inequality: let $\\mathcal{V}$ be an inner product space.\n",
    "Then, for any $u, v \\in \\mathcal{V}$, we have \n",
    "\n",
    "    $$ \n",
    "    \\lvert \\langle u, v \\rangle \\rvert \\leq \\lVert u \\rVert_{ip} \\lVert v \\rVert_{ip}.\n",
    "    $$\n",
    "    \n"
   ]
  }
 ],
 "metadata": {
  "kernelspec": {
   "display_name": "Python 3 (ipykernel)",
   "language": "python",
   "name": "python3"
  },
  "language_info": {
   "codemirror_mode": {
    "name": "ipython",
    "version": 3
   },
   "file_extension": ".py",
   "mimetype": "text/x-python",
   "name": "python",
   "nbconvert_exporter": "python",
   "pygments_lexer": "ipython3",
   "version": "3.10.7"
  }
 },
 "nbformat": 4,
 "nbformat_minor": 5
}
