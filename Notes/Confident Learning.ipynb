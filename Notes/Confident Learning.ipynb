{
 "cells": [
  {
   "cell_type": "markdown",
   "id": "57ac9b72-efe1-430d-98bf-8693dc043d23",
   "metadata": {},
   "source": [
    "# Confident Learning\n",
    "\n",
    "*08-04-2022*\n",
    "\n",
    "This page contains my reading notes on \n",
    "\n",
    "- [**Confident Learning: Estimating Uncertainty in Dataset Labels**](https://www.semanticscholar.org/paper/Confident-Learning%3A-Estimating-Uncertainty-in-Northcutt-Jiang/6482d8c757bce9b0d208d37d4b09e4805faae983)"
   ]
  },
  {
   "cell_type": "markdown",
   "id": "1c69d280-d9c1-49bd-9891-6f368cbdc4fc",
   "metadata": {},
   "source": [
    "Notations:\n",
    "\n",
    "- All symbols with $*$ are related to the unknown, true labels. \n",
    "\n",
    "- All symbols with $\\sim$ are related to the given, noisy labels.\n",
    "\n",
    "- All symbols with ^ are related to the estimates (the given model).\n",
    "\n",
    "The procedure needs 2 inputs:\n",
    "\n",
    "- Out-of-sample predicted probabilities $\\hat{\\mathbf{P}}$: a matrix of $n$ rows (# of training instances) and $m$ columns (labels).\n",
    "\n",
    "    - CL requires users to train a model on the training set using cross validation.\n",
    "    \n",
    "    - The model must be able to provide probability outputs to all possible labels.\n",
    "    \n",
    "- The given labels $\\tilde{\\mathbf{y}}$: a vector of length $n$ (# of training instances)."
   ]
  },
  {
   "cell_type": "markdown",
   "id": "5f5eacda-72a7-4e4b-8094-5f939f0d042c",
   "metadata": {},
   "source": [
    "## Five Methods to identify instances with noisy labels\n",
    "\n",
    "### 1. CL baseline 1: $C_{confusion}$\n",
    "\n",
    "The instance is considered to have the noisy label if its given label is different from the label with largest predicted probability."
   ]
  },
  {
   "cell_type": "markdown",
   "id": "f8f78cfb-318a-4dda-9b05-25cf35fd74de",
   "metadata": {},
   "source": [
    "### 2. CL method 2: $C_{\\tilde{y}, y^{*}}$\n",
    "\n",
    "In this method, a matrix called *confident joint* $C_{\\tilde{y}, y^{*}}$ will be calculated using $\\hat{\\mathbf{P}}$ and $\\tilde{\\mathbf{y}}$.\n",
    "\n",
    "|$$C_{\\tilde{y}, y^{*}}$$|$$y^{*} = 0$$|$$y^{*} = 1$$|$$y^{*} = 2$$|\n",
    "|---|---|---|---|\n",
    "|$$\\tilde{y} = 0$$|100|40|20|\n",
    "|$$\\tilde{y} = 1$$|56|60|0|\n",
    "|$$\\tilde{y} = 2$$|32|12|80|\n",
    "\n",
    "To calculate this matrix: \n",
    "\n",
    "1. For each label $j$, calculate the average predicted probability $t_{j}$ using $\\hat{\\mathbf{P}}$.\n",
    "\n",
    "1. For each instance $\\mathbf{x}_{k}$ with the given label $i$ in the training set, the entry at row $i$ and column $j$ of the confident joint matrix $C_{\\tilde{y}=i, y^{*}=j}$ will be added 1, **where the true label $j$ is the one that has the largest predicted probability among all the labels whose predicted probabilities are above the respected $t_{j}$**.\n",
    "\n",
    "    - This basically means that the true label for a given instance is the label whose predicted probability by a model is larger than the average predicted probability.\n",
    "    \n",
    "    - If there are more than one such labels, chose the one that has the largest predicted probability.\n",
    "    \n",
    "    - It is possible that no such label exists, and thus the instance won't be counted in the matrix. \n",
    "    \n",
    "Thus, each entry in $C_{\\tilde{y}, y^{*}}$ is corresponding to a set of training instances.\n",
    "\n",
    "All instances that fall in the off-diagonal of the $C_{\\tilde{y}, y^{*}}$ are considered to have noisy labels."
   ]
  },
  {
   "cell_type": "markdown",
   "id": "d42cca59-496e-4a51-bf75-ebeaf6fa8d22",
   "metadata": {},
   "source": [
    "### 3. CL method 3: Prune by Class (PBC)\n",
    "\n",
    "In this method and all methods below, another matrix called *Estimate of joint* $\\hat{Q}_{\\tilde{y}, y^{*}}$ will be calculated using $C_{\\tilde{y}, y^{*}}$.\n",
    "\n",
    "|$$\\hat{Q}_{\\tilde{y}, y^{*}}$$|$$y^{*} = 0$$|$$y^{*} = 1$$|$$y^{*} = 2$$|\n",
    "|---|---|---|---|\n",
    "|$$\\tilde{y} = 0$$|0.25|0.1|0.05|\n",
    "|$$\\tilde{y} = 1$$|0.14|0.15|0|\n",
    "|$$\\tilde{y} = 2$$|0.08|0.03|0.2|\n",
    "\n",
    "$\\hat{Q}_{\\tilde{y}, y^{*}}$ basically is the normlized $C_{\\tilde{y}, y^{*}}$: each entry in $C_{\\tilde{y}, y^{*}}$ is divided by the total number of training instances. \n",
    "\n",
    "For each class $i$, the $a$ number of instances with lowest predicted probabilities for label $i$ are considered to have noisy labels, where $a$ is calculated as the product of $n$ and the sum of off-diagonal entries on row $i$ of $\\hat{Q}_{\\tilde{y}, y^{*}}$."
   ]
  },
  {
   "cell_type": "markdown",
   "id": "2ff165de-4c3a-46f7-b57d-f05ca5d5002b",
   "metadata": {},
   "source": [
    "### 4. CL method 4: Prune by Noise Rate (PBNR)\n",
    "\n",
    "For each off-diagonal entry in $\\hat{Q}_{\\tilde{y}, y^{*}}$, the $n \\times \\hat{Q}_{\\tilde{y}=i, y^{*}=j}$ number of instances with largest margin are considered to have noisy labels, where the margin of an instance $\\mathbf{x}_{k}$ with respect to given label $i$ and true label $j$ is $\\hat{\\mathbf{P}}_{k, j} - \\hat{\\mathbf{P}}_{k, i}$."
   ]
  },
  {
   "cell_type": "markdown",
   "id": "dfbe19b4-138b-41bf-929c-7b5dfc729e4a",
   "metadata": {},
   "source": [
    "### 5. CL method 5: C + NR\n",
    "\n",
    "The instance is considered to have a noisy label if both PBC and PBNR consider it to have a noisy label."
   ]
  }
 ],
 "metadata": {
  "kernelspec": {
   "display_name": "Python 3 (ipykernel)",
   "language": "python",
   "name": "python3"
  },
  "language_info": {
   "codemirror_mode": {
    "name": "ipython",
    "version": 3
   },
   "file_extension": ".py",
   "mimetype": "text/x-python",
   "name": "python",
   "nbconvert_exporter": "python",
   "pygments_lexer": "ipython3",
   "version": "3.10.5"
  }
 },
 "nbformat": 4,
 "nbformat_minor": 5
}
