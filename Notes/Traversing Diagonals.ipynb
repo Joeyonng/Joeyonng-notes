{
 "cells": [
  {
   "cell_type": "markdown",
   "metadata": {},
   "source": [
    "---\n",
    "title: Traversing Diagonals\n",
    "date: 12/21/2023\n",
    "format:\n",
    "  html:\n",
    "    code-fold: true\n",
    "---"
   ]
  },
  {
   "cell_type": "markdown",
   "metadata": {},
   "source": [
    "This page contains an coding algorithm to iterate the diagonals of a matrix."
   ]
  },
  {
   "cell_type": "markdown",
   "metadata": {},
   "source": [
    "Given a matrix of `(n_rows, n_cols)`,\n",
    "there are 4 directions to iterate its diagonals. \n",
    "\n",
    "- From top left to bottom right.\n",
    "\n",
    "- From bottom right to top left.\n",
    "\n",
    "- From top right to bottom left.\n",
    "\n",
    "- From bottom left to top right.\n",
    "\n",
    "For example, a matrix of `3 rows` and `4 cols` has `6 diagonals`.\n",
    "\n",
    "```\n",
    "Matrix:\n",
    "\n",
    "      0 1 2 3\n",
    "    0 0 1 2 3\n",
    "    1 4 5 6 7\n",
    "    2 8 9 a b\n",
    "\n",
    "Iterate the diagonals from top left to bottom right:\n",
    "\n",
    "    0\n",
    "    1 4\n",
    "    2 5 8\n",
    "    3 6 9\n",
    "    7 a\n",
    "    b\n",
    "\n",
    "Iterate the diagonals from bottom left to top right:\n",
    "\n",
    "    2\n",
    "    1 8\n",
    "    4 9\n",
    "    0 5 a\n",
    "    1 6 b\n",
    "    2 7\n",
    "    3\n",
    "```\n",
    "\n",
    "Also, for each diagonal, there are 2 ways to iterate its values.\n",
    "\n",
    "- From top to bottom.\n",
    "\n",
    "- From bottom to top\n",
    "\n",
    "```\n",
    "Iterate the diagonals from top left to bottom right and iterate values in each diagonal from top to bottom:\n",
    "\n",
    "    0\n",
    "    1 4\n",
    "    2 5 8\n",
    "    3 6 9\n",
    "    7 a\n",
    "    b\n",
    "\n",
    "Iterate the diagonals from top left to bottom right and iterate values in each diagonal from bottom to top:\n",
    "\n",
    "    0\n",
    "    4 1\n",
    "    8 5 2\n",
    "    9 6 3\n",
    "    a 7\n",
    "    b\n",
    "```\n",
    "\n",
    "Therefore there are in total of 8 combinations to traverse the diagonals of a matrix.\n",
    "Here we present a systematic way to cover all combinations."
   ]
  },
  {
   "cell_type": "code",
   "execution_count": 7,
   "metadata": {},
   "outputs": [],
   "source": [
    "matrix = [\n",
    "    ['0', '1', '2', '3'], \n",
    "    ['4', '5', '6', '7'], \n",
    "    ['8', '9', 'a', 'b']\n",
    "]"
   ]
  },
  {
   "cell_type": "markdown",
   "metadata": {},
   "source": [
    "## Observation\n",
    "\n",
    "For the diagonals that **span from top right to bottom left**,\n",
    "which are also the diagonals that we **iterate from top left to bottom right**,\n",
    "the sum of row index and col index (`i + j`) is the same for all cells in the same diagonal. \n",
    "\n",
    "```\n",
    "For the example above, the sums of the row index and col index are\n",
    "\n",
    "      0 1 2 3\n",
    "    0 0 1 2 3\n",
    "    1 1 2 3 4\n",
    "    2 2 3 4 5\n",
    "\n",
    "```\n",
    "\n",
    "Therefore we can iterate through the diagonals and calculate the indices based on this observation."
   ]
  },
  {
   "cell_type": "markdown",
   "metadata": {},
   "source": [
    "## Algorithm and explanations  \n",
    "\n",
    "### top left to bottom right + top to bottom\n",
    "\n",
    "First we present the algorithm to iterate the diagonals from top left to bottom right.\n",
    "Then we generalize this algorithm to cover other directions. \n",
    "\n",
    "1. Outer loop: iterate diagonals from top left to bottom right using `d` as the index of the diagonal. \n",
    "\n",
    "    ```{python}\n",
    "    for d in range(n_rows + n_cols - 1):\n",
    "    ```\n",
    "\n",
    "    Since there are `num_diags = n_rows + n_cols - 1` number of diagonals, \n",
    "    the `range` of `d` starts with `0` and ends with `num_rows + n_cols - 1`.\n",
    "\n",
    "2. Inner loop: iterate the elements in each diagonal using `i` as the row index.\n",
    "\n",
    "    ```{python}\n",
    "    for i in range(max(0, d - (n_cols - 1)), min(n_rows, d + 1)):\n",
    "    ```\n",
    "\n",
    "\n",
    "3. Calculate `j` index: as the elements in each diagonal are iterated using the row indices,\n",
    "    their col indices `j` can also be calculated.\n",
    "\n",
    "    ```{python}\n",
    "    j = d - i\n",
    "    ```\n",
    "\n",
    "    This is because the observation above that `i + j = d`. "
   ]
  },
  {
   "cell_type": "code",
   "execution_count": 3,
   "metadata": {},
   "outputs": [
    {
     "name": "stdout",
     "output_type": "stream",
     "text": [
      "0 \n",
      "1 4 \n",
      "2 5 8 \n",
      "3 6 9 \n",
      "7 a \n",
      "b \n"
     ]
    }
   ],
   "source": [
    "n_rows = len(matrix)\n",
    "n_cols = len(matrix[0])\n",
    "for d in range(n_rows + n_cols - 1):\n",
    "    for i in range(max(0, d - n_cols + 1), min(n_rows, d + 1)):\n",
    "        j = d - i\n",
    "        print(matrix[i][j], end=\" \")\n",
    "    print()"
   ]
  },
  {
   "cell_type": "markdown",
   "metadata": {},
   "source": [
    "### Reverse the `range` of `d`\n",
    "\n",
    "By putting `reversed` to the `range` of `d`, \n",
    "you can change the iteration of diagonals from\n",
    "\n",
    "- *from top left to bottom right* to *from bottom right to top left*,\n",
    "\n",
    "- *from top right to bottom left* to *from bottom left to top right*.\n",
    "\n",
    "```{python}\n",
    "for d in reversed(range(n_rows + n_cols - 1)):\n",
    "```"
   ]
  },
  {
   "cell_type": "code",
   "execution_count": 5,
   "metadata": {},
   "outputs": [
    {
     "name": "stdout",
     "output_type": "stream",
     "text": [
      "b \n",
      "7 a \n",
      "3 6 9 \n",
      "2 5 8 \n",
      "1 4 \n",
      "0 \n"
     ]
    }
   ],
   "source": [
    "n_rows = len(matrix)\n",
    "n_cols = len(matrix[0])\n",
    "for d in reversed(range(n_rows + n_cols - 1)):\n",
    "    for i in range(max(0, d - n_cols + 1), min(n_rows, d + 1)):\n",
    "        j = d - i\n",
    "        print(matrix[i][j], end=\" \")\n",
    "    print()"
   ]
  },
  {
   "cell_type": "markdown",
   "metadata": {},
   "source": [
    "### Reverse the `range` of `i`\n",
    "\n",
    "By putting `reversed` to the `range` of `i`, \n",
    "you can reverse the iteration of the elements in each diagonal.\n",
    "\n",
    "```{python}\n",
    "for i in reversed(range(max(0, d - (n_cols - 1)), min(n_rows, d + 1))):\n",
    "```"
   ]
  },
  {
   "cell_type": "code",
   "execution_count": 4,
   "metadata": {},
   "outputs": [
    {
     "name": "stdout",
     "output_type": "stream",
     "text": [
      "b \n",
      "a 7 \n",
      "9 6 3 \n",
      "8 5 2 \n",
      "4 1 \n",
      "0 \n"
     ]
    }
   ],
   "source": [
    "n_rows = len(matrix)\n",
    "n_cols = len(matrix[0])\n",
    "for d in reversed(range(n_rows + n_cols - 1)):\n",
    "    for i in reversed(range(max(0, d - n_cols + 1), min(n_rows, d + 1))):\n",
    "        j = d - i\n",
    "        print(matrix[i][j], end=\" \")\n",
    "    print()"
   ]
  },
  {
   "cell_type": "markdown",
   "metadata": {},
   "source": [
    "### Reverse `j`\n",
    "\n",
    "By \"reverse\" `j`,\n",
    "you can change the iteration of diagonals from\n",
    "\n",
    "- *from top left to bottom right* to *from top right to bottom left*,\n",
    "\n",
    "- *from bottom right to top left* to *from bottom left to top right*.\n",
    "\n",
    "```{python}\n",
    "j = n_cols - 1 - (d - i)\n",
    "```"
   ]
  },
  {
   "cell_type": "code",
   "execution_count": 6,
   "metadata": {},
   "outputs": [
    {
     "name": "stdout",
     "output_type": "stream",
     "text": [
      "8 \n",
      "9 4 \n",
      "a 5 0 \n",
      "b 6 1 \n",
      "7 2 \n",
      "3 \n"
     ]
    }
   ],
   "source": [
    "n_rows = len(matrix)\n",
    "n_cols = len(matrix[0])\n",
    "for d in reversed(range(n_rows + n_cols - 1)):\n",
    "    for i in reversed(range(max(0, d - n_cols + 1), min(n_rows, d + 1))):\n",
    "        j = n_cols - 1 - (d - i)\n",
    "        print(matrix[i][j], end=\" \")\n",
    "    print()"
   ]
  }
 ],
 "metadata": {
  "kernelspec": {
   "display_name": "venv3.10",
   "language": "python",
   "name": "python3"
  },
  "language_info": {
   "codemirror_mode": {
    "name": "ipython",
    "version": 3
   },
   "file_extension": ".py",
   "mimetype": "text/x-python",
   "name": "python",
   "nbconvert_exporter": "python",
   "pygments_lexer": "ipython3",
   "version": "3.10.13"
  }
 },
 "nbformat": 4,
 "nbformat_minor": 2
}
