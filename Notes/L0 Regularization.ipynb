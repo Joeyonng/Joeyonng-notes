{
 "cells": [
  {
   "cell_type": "markdown",
   "id": "ffeb54e8-ef57-4c5a-878c-26bd53103538",
   "metadata": {},
   "source": [
    "# L0 Regularization\n",
    "\n",
    "*05-03-2021*\n",
    "\n",
    "This page contains my reading notes on \n",
    "\n",
    "- [**Learning Sparse Neural Networks through $L_{0}$ Regularization**](https://www.semanticscholar.org/paper/Learning-Sparse-Neural-Networks-through-L0-Louizos-Welling/572f5d18a3943dce4e14f937ef66977a01891096)"
   ]
  },
  {
   "cell_type": "markdown",
   "id": "0c332469-48d2-4c80-9f09-1c5cc67ebe60",
   "metadata": {},
   "source": [
    "## Problem formulation\n",
    "\n",
    "1. Given a vector $x$ of length $n$ (matrix can also be seen as a vector by stacking up the rows/cols), the common vector norms are:\n",
    "    1. $L_{0}$ norm: $\\sum_{i=1}^{n} \\mathbb{1}[x_{i} \\neq 0]$, where $\\mathbb{1}[x_{i} \\neq 0]$ means it evaluates to 1 if $x_{i} \\neq 0$, 0 otherwise.\n",
    "    1. $L_{1}$ norm: $\\sum_{i=1}^{n} \\lvert x_{i} \\rvert$, which is also called ridge regularization in neural network.\n",
    "    1. $L_{2}$ norm: $\\sum_{i=1}^{n} x_{i}^2$, which is also called lasso regularization in neural network.\n",
    "    1. $L_{\\infty}$ norm: $\\max_{i=1}^{n} \\lvert x_i \\rvert$.\n",
    "1. The normal way to prune the edges of the neural network is to use $L_{1}$ or $L_{2}$ regularization to drive weights to near 0 (not exactly 0), and then directly set all weights that are less than threshold to 0.\n",
    "    1. $L_{0}$ is not used because the operation of counting the number of 0s is not differentiable."
   ]
  },
  {
   "cell_type": "markdown",
   "id": "b0b0d6a0-2b4c-46d0-ae15-2e77c6bb0162",
   "metadata": {},
   "source": [
    "## General recipe of $L_{0}$ regularization\n",
    "\n",
    "1. The loss function used to train a neural network with $L_{0}$ regularization is:\n",
    "    $$ \\mathcal{L}(f(x, \\theta), y) + \\lambda \\sum_{i=1}^{\\lvert \\theta \\rvert} \\mathbb{1}[\\theta_{i} \\neq 0] $$\n",
    "    where $\\mathcal{L}$ is a standard loss function (cross-entropy loss, softmax), $\\theta$ are the parameters in the network, $h(\\cdot, \\theta)$ is the network, $x, y$ are training instances and $\\lambda$ is a hyper-parameter that balance loss and the regularization. \n",
    "1. If we attach a **binary random variable** $z_{i}$ to each element of the model parameter $\\theta_{i}$, then the weights used in the feed-forward operation of the neural network can be replaced by $\\theta \\odot z$. The loss function then becomes:\n",
    "    $$ \\mathcal{L}(f(x, \\theta \\odot z), y) + \\lambda \\sum_{i=1}^{\\lvert \\theta \\rvert} \\mathbb{1}[z_{i} \\neq 0]$$\n",
    "    where $z \\in \\{0, 1\\}^{\\lvert \\theta \\rvert}$.\n",
    "1. If we assume each $z_{i}$ as a binary random variable with a **Bernoulli distribution** that has a parameter $\\pi_{i}$, i.e. $z_{i} = \\mathrm{Bern}(\\pi_{i})$, then the loss function becomes:\n",
    "    $$ \\mathbb{E}_{z=\\mathrm{Bern}(\\pi)} \\big[ \\mathcal{L}(f(x, \\theta \\odot z), y) \\big] + \\lambda \\sum_{i=1}^{\\lvert \\theta \\rvert} \\pi_{i} $$\n",
    "    where $\\mathbb{E}_{z=\\mathrm{Bern}(\\pi)} [\\cdot]$ gives an expectation value of a function that has a Bernoulli distribution $z$ as the input. \n",
    "1. The reformulation of the above loss function can be established because\n",
    "    1. Since the minimum of a function is upper bounded by the expectation of the function, minimizing $\\mathbb{E}_{z=\\mathrm{Bern}(\\pi)} \\big[ \\mathcal{L}(f(x, \\theta \\odot z), y) \\big]$ is the same as minimizing the upper bound of $\\mathcal{L}(f(x, \\theta \\odot z), y)$.\n",
    "    1. According to the definition of the Bernoulli distribution, $\\pi$ gives the probability of $z$ being 1. Thus, minimizing $\\pi$ is to increase the probability of $z$ being 0.\n",
    "1. In the equation above, the second term is very easy to minimize, but the first term is still problematic because Bernoulli distribution is a discrete distribution that has 0 gradient almost everywhere. The two $L_{0}$ regularization methods below approximates the Bernoulli distribution with two different continuous distributions."
   ]
  },
  {
   "cell_type": "markdown",
   "id": "e2c9276f-9057-48d8-9a0d-c4ed89a29edb",
   "metadata": {},
   "source": [
    "## Hard concrete distribution\n",
    "1. Assume that we have a new random variable $s$ that has a **continuous distribution** with a parameter $\\phi$.\n",
    "    1. Assume that the continuous distribution has a range from less than 0 to larger than 1, i.e. [-0.5, 1.5]. \n",
    "        $$ s \\sim \\textrm{q}(s | \\phi) \\in [-0.5, 1.5] $$\n",
    "        where $\\textrm{q}(\\cdot)$ is the probability density function (PDF).\n",
    "    1. In this case, the probability of the variable $s$ being positive can be easily calculated by subtracting the probability of $s$ being negative from 1 (the total probability):\n",
    "        $$ \\textrm{q}(s > 0 | \\phi) = 1 - \\mathrm{Q}(s \\leq 0 | \\phi) $$\n",
    "        where $\\textrm{Q}(\\cdot)$ is the cumulative density function (CDF) and $\\mathrm{Q}(s \\leq 0 | \\phi)$ gives the probability of $s$ being negative.\n",
    "    1. If we clip the distribution into the range of [0, 1], then we can use the clipped version of the continuous distribution to replace $z$.\n",
    "        $$ z = \\mathrm{clip}(s, 0, 1) $$\n",
    "        where $\\mathrm{clip}(x, \\mathrm{min}, \\mathrm{max})$ means to clip $x$ between the range $[\\mathrm{min}, \\mathrm{max}]$. \n",
    "    1. After clipping, the probability of the variable $s$ being positive is the same as the probability of $z$ being non-zero. Thus, the loss function above can be rewritten using $s$ by:\n",
    "        $$ \\mathbb{E}_{s \\sim \\textrm{q}(s | \\phi)} \\big[ \\mathcal{L}(f(x, \\theta \\odot \\mathrm{clip}(s, 0, 1)), y) \\big] + \\lambda \\sum_{i=1}^{\\lvert \\theta \\rvert} (1 - \\mathrm{Q}(s \\leq 0 | \\phi)) $$\n",
    "1. Hard concrete distribution is a slight modification version of [binary concrete](https://vitalab.github.io/article/2018/11/29/concrete.html) random variable.\n",
    "    1. TODO"
   ]
  },
  {
   "cell_type": "code",
   "execution_count": 1,
   "id": "5bcff303-4c12-4ecf-bc31-c5483521227b",
   "metadata": {},
   "outputs": [],
   "source": [
    "%matplotlib inline\n",
    "import numpy as np\n",
    "import matplotlib.pyplot as plt\n",
    "from ipywidgets import interact\n",
    "plt.style.use(\"ggplot\")"
   ]
  },
  {
   "cell_type": "code",
   "execution_count": 2,
   "id": "eab7a0ab-0519-4ed5-b4bd-95f4e30e0cfe",
   "metadata": {},
   "outputs": [
    {
     "data": {
      "application/vnd.jupyter.widget-view+json": {
       "model_id": "9074989659ff4a1cb07269e3af936da0",
       "version_major": 2,
       "version_minor": 0
      },
      "text/plain": [
       "interactive(children=(FloatSlider(value=0.0, description='loc', max=0.5, min=-0.5), FloatSlider(value=0.505, d…"
      ]
     },
     "metadata": {},
     "output_type": "display_data"
    },
    {
     "data": {
      "image/png": "[encoded data removed]",
      "text/plain": [
       "<Figure size 640x480 with 1 Axes>"
      ]
     },
     "metadata": {},
     "output_type": "display_data"
    }
   ],
   "source": [
    "def sigmoid(x):\n",
    "    return 1 / (1 + np.exp(-x))\n",
    "\n",
    "def hard_sigmoid(x):\n",
    "    return min(1, max(0, x))\n",
    "\n",
    "def hard_concrete(loc, temp, gamma, zeta):\n",
    "    u = np.random.random()\n",
    "    s = sigmoid((np.log(u) - np.log(1 - u) + loc) / temp)\n",
    "    s = s * (zeta - gamma) + gamma\n",
    "    return hard_sigmoid(s)\n",
    "\n",
    "def plot_hard_concreate(loc, temp, gamma, zeta, num=10_000, bins=100, **kwargs):\n",
    "    plt.hist([hard_concrete(loc, temp, gamma, zeta) for _ in range(num)], bins=bins, density=True, **kwargs)\n",
    "    \n",
    "def interactive_hard_concrete(loc, temp):\n",
    "    plot_hard_concreate(loc, temp, gamma=-0.1, zeta=1.1)\n",
    "\n",
    "interact(interactive_hard_concrete, loc=(-0.5, 0.5), temp=(0.01, 1));"
   ]
  },
  {
   "cell_type": "code",
   "execution_count": null,
   "id": "287bf3fd-aa97-4843-9d62-7af72779cd1d",
   "metadata": {},
   "outputs": [],
   "source": []
  }
 ],
 "metadata": {
  "kernelspec": {
   "display_name": "Python 3 (ipykernel)",
   "language": "python",
   "name": "python3"
  },
  "language_info": {
   "codemirror_mode": {
    "name": "ipython",
    "version": 3
   },
   "file_extension": ".py",
   "mimetype": "text/x-python",
   "name": "python",
   "nbconvert_exporter": "python",
   "pygments_lexer": "ipython3",
   "version": "3.8.10"
  }
 },
 "nbformat": 4,
 "nbformat_minor": 5
}
