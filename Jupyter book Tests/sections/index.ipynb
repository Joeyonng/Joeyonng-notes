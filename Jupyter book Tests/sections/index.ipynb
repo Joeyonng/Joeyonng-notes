{
 "cells": [
  {
   "cell_type": "markdown",
   "id": "6c7004c5-3325-428e-a698-733e73802a2f",
   "metadata": {},
   "source": [
    "# IndexError: list index out of range"
   ]
  }
 ],
 "metadata": {
  "kernelspec": {
   "display_name": "Python 3 (ipykernel)",
   "language": "python",
   "name": "python3"
  },
  "language_info": {
   "codemirror_mode": {
    "name": "ipython",
    "version": 3
   },
   "file_extension": ".py",
   "mimetype": "text/x-python",
   "name": "python",
   "nbconvert_exporter": "python",
   "pygments_lexer": "ipython3",
   "version": "3.8.10"
  }
 },
 "nbformat": 4,
 "nbformat_minor": 5
}
