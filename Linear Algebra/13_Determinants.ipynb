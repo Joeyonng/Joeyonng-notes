{
 "cells": [
  {
   "cell_type": "markdown",
   "id": "a2488e3d-c1d3-4456-8bdd-0a6ba8d6f3c4",
   "metadata": {},
   "source": [
    "# Determinants\n",
    "\n",
    "For an matrix $\\mathbf{A} \\in \\mathbb{C}^{n \\times n}$, \n",
    "the determinant of A is defined to be the scalar\n",
    "\n",
    "$$\n",
    "\\text{det} (\\mathbf{A}) = \\lvert \\mathbf{A} \\rvert = \\sum_{p \\in \\mathcal{P}} \\sigma (p) \\prod_{i=1}^{n} a_{i, p_{i}}\n",
    "$$\n",
    "\n",
    "where \n",
    "\n",
    "- $\\mathcal{P}$ is the set of all permutations of the set of $(1, 2, \\dots, n)$,\n",
    "\n",
    "- $\\sigma (p)$ is the parity of the permutation $p$. \n",
    "\n",
    "Note that each term a1p1a2p2 · · · anpn in (6.1.1) contains exactly one entry from each row and each column of A. "
   ]
  }
 ],
 "metadata": {
  "kernelspec": {
   "display_name": "Python 3 (ipykernel)",
   "language": "python",
   "name": "python3"
  },
  "language_info": {
   "codemirror_mode": {
    "name": "ipython",
    "version": 3
   },
   "file_extension": ".py",
   "mimetype": "text/x-python",
   "name": "python",
   "nbconvert_exporter": "python",
   "pygments_lexer": "ipython3",
   "version": "3.10.7"
  }
 },
 "nbformat": 4,
 "nbformat_minor": 5
}
