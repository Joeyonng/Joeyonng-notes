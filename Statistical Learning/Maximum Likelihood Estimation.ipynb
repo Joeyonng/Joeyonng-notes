{
 "cells": [
  {
   "cell_type": "markdown",
   "id": "20d0dc5f-99f7-495e-bef2-b6a708ea7e05",
   "metadata": {},
   "source": [
    "(maximum-likelihood-estimation)=\n",
    "# Maximum Likelihood Estimation (MLE)\n",
    "---\n",
    "\n",
    "**Maximum likelihood estimation (MLE)** is a principle to find the best parameter for a probability distribution that **best explains** a sampled dataset. \n",
    "The instances in the dataset are supposed be independently sampled from the same distribution. \n",
    "MLE gives a relatively easy way to estimate parameters from the data."
   ]
  },
  {
   "cell_type": "markdown",
   "id": "dd45d530-0f83-44f2-a54c-df85e6ccc82a",
   "metadata": {},
   "source": [
    "## Maximum likelihood\n",
    "---\n",
    "\n",
    "### Likelihood function\n",
    "\n",
    "Given the dataset $\\mathcal{X} = \\{ \\mathbf{x}_{1}, \\dots, \\mathbf{x}_{n} \\}$, the term **likelihood function** simply refers to the probability function of $\\mathcal{X}$ with the distribution parameters for $\\mathbf{X}$ being $\\mathbf{\\Theta}$\n",
    "\n",
    "$$ \n",
    "f(\\mathbf{\\Theta}) = \\mathbb{P}_{\\mathbf{X}}(\\mathcal{X} ; \\mathbf{\\Theta}), \n",
    "$$\n",
    "\n",
    "which measures how likely are the parameters $\\mathbf{\\Theta}$ with respect to the data."
   ]
  },
  {
   "cell_type": "markdown",
   "id": "51ce910a-431c-4c06-97f1-80111f5a203f",
   "metadata": {},
   "source": [
    "Notes:\n",
    "\n",
    "- Since the dataset are known, the probability function is only dependent on the parameters $\\mathbf{\\Theta}$, and thus doesn't have the same shape as the probability density of the variable $\\mathbf{X}$. \n",
    "\n",
    "- The semicolon indicate that $\\mathbf{\\Theta}$ is a parameter (fixed value) instead of a random variable."
   ]
  },
  {
   "cell_type": "markdown",
   "id": "79aac7f5-a265-41d5-b731-ca6a4728a8a2",
   "metadata": {},
   "source": [
    "### Procedures \n",
    "\n",
    "1. We collect a set of instances $\\mathcal{X} = \\{ \\mathbf{x}_{1}, \\dots, \\mathbf{x}_{n} \\}$ that we believe should be from the same distribution. \n",
    "\n",
    "1. We select a parametric model $\\mathbb{P}_{\\mathbf{X}}(\\mathbf{x} ; \\mathbf{\\Theta})$ that we think can best explains the data.\n",
    "\n",
    "1. We select the parameters $\\mathbf{\\Theta}^{*}$ to be the ones that maximize the probability of the data: "
   ]
  },
  {
   "cell_type": "markdown",
   "id": "50eb9434-eb54-49c3-9e90-6191d6facfa9",
   "metadata": {},
   "source": [
    "$$ \n",
    "\\begin{aligned}\n",
    "\\mathbf{\\Theta}^{*} \n",
    "& = \\arg\\max_{\\mathbf{\\Theta}} \\mathbb{P}_{\\mathbf{X}}(\\mathcal{X}; \\mathbf{\\Theta}) \n",
    "\\\\\n",
    "& = \\arg\\max_{\\mathbf{\\Theta}} \\prod_{i = 1}^{n} \\mathbb{P}_{\\mathbf{X}}(\\mathbf{x}_{i} ; \\mathbf{\\Theta}) & [\\mathcal{X} \\text{ are i.i.d samples }] \n",
    "\\\\\n",
    "& = \\arg\\max_{\\mathbf{\\Theta}} \\ln \\prod_{i = 1}^{n} \\mathbb{P}_{\\mathbf{X}}(\\mathbf{x}_{i} ; \\mathbf{\\Theta}) & [\\text{the log trick}] \n",
    "\\\\\n",
    "& = \\arg\\max_{\\mathbf{\\Theta}} \\sum_{i = 1}^{n} \\ln \\mathbb{P}_{\\mathbf{X}}(\\mathbf{x}_{i} ; \\mathbf{\\Theta}).\n",
    "\\end{aligned}\n",
    "$$"
   ]
  },
  {
   "cell_type": "markdown",
   "id": "bc4520f8-4c5b-447b-8906-a0a43fa9d6a0",
   "metadata": {},
   "source": [
    "### Optimization methods\n",
    "\n",
    "If the likelihood function is concave, the best parameters $\\mathbf{\\Theta}^{*}$ that maximize the likelihood function are the ones that make the gradient of $f(\\mathbf{\\Theta})$ with respect to $\\mathbf{\\Theta}$ $0$ and at the same time has negative semidefinite hessian matrix.  \n",
    "\n",
    "$$ \n",
    "\\nabla_{\\mathbf{\\Theta}} f(\\mathbf{\\Theta}) = \\nabla_{\\mathbf{\\Theta}} \\mathbb{P}_{\\mathbf{X}}(\\mathcal{X} ; \\mathbf{\\Theta}) = 0 \n",
    "$$\n",
    "\n",
    "$$ \n",
    "\\nabla_{\\mathbf{\\Theta}}^{2} f(\\mathbf{\\Theta}) \\preceq 0 \n",
    "$$\n",
    "\n",
    "Otherwise, other numerical methods or algorithms might need to employed to solve the optimization problem. "
   ]
  },
  {
   "cell_type": "markdown",
   "id": "0aa73476-f390-47ca-a848-038f8bfdc962",
   "metadata": {},
   "source": [
    "## Example: linear regression\n",
    "---\n",
    "\n",
    "> TODO"
   ]
  }
 ],
 "metadata": {
  "kernelspec": {
   "display_name": "Python 3 (ipykernel)",
   "language": "python",
   "name": "python3"
  },
  "language_info": {
   "codemirror_mode": {
    "name": "ipython",
    "version": 3
   },
   "file_extension": ".py",
   "mimetype": "text/x-python",
   "name": "python",
   "nbconvert_exporter": "python",
   "pygments_lexer": "ipython3",
   "version": "3.10.7"
  }
 },
 "nbformat": 4,
 "nbformat_minor": 5
}
