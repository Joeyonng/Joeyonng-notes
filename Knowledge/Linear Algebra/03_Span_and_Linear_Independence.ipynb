{
 "cells": [
  {
   "cell_type": "markdown",
   "id": "63dbe9ce-36ad-4d75-a968-2f7812bc4824",
   "metadata": {
    "tags": []
   },
   "source": [
    "# Span\n",
    "Given a vector space $\\mathcal{V}$ over a field $\\mathbb{F}$, \n",
    "the span of a set of vectors $v_{1}, \\dots, v_{n} \\in \\mathcal{V}$ is the set of all possible linear combinations of $v_{1}, \\dots, v_{m}$\n",
    "\n",
    "$$\n",
    "\\text{span} (v_{1}, \\dots, v_{n}) = \\left\\{\n",
    "    \\sum_{i=1}^{n} \\alpha_{i} \\cdot v_{i}, \\forall \\alpha_{i} \\in \\mathbb{F}\n",
    "\\right\\}.\n",
    "$$\n",
    "\n",
    "If $\\mathcal{V}$ is $\\mathbb{F}^{m}$,  the set vectors $v_{1}, \n",
    "\\dots, v_{n}$ can be viewed as the columns of the matrix $\\mathbf{A} \\in \\mathbb{F}^{m \\times n}$. \n",
    "Then\n",
    "\n",
    "$$\n",
    "\\text{span} (v_{1}, \\dots, v_{n}) = R (\\mathbf{A}).\n",
    "$$\n",
    "\n",
    "Since we have proved $R (\\mathbf{A})$ is a subspace of $\\mathcal{V}$, the span of a set of vectors is a subspace of $\\mathcal{V}$."
   ]
  },
  {
   "cell_type": "markdown",
   "id": "c7bf787f-1abd-4237-8b55-7c1f51114908",
   "metadata": {
    "tags": []
   },
   "source": [
    "## Spanning set\n",
    "\n",
    "For a set of vectors $\\mathcal{S} = v_{1}, \\dots, v_{n}$, \n",
    "if the subspace $\\mathcal{W}$ is the span of $\\mathcal{S}$\n",
    "\n",
    "$$\n",
    "\\mathcal{W} = \\text{span} (\\mathcal{S}),\n",
    "$$\n",
    "\n",
    "then the set of vectors $\\mathcal{S}$ is the spanning set of the subspace $\\mathcal{W}$.S."
   ]
  },
  {
   "cell_type": "markdown",
   "id": "919db0d4-37fe-4ef0-95ba-71cd188538a9",
   "metadata": {
    "tags": []
   },
   "source": [
    "## Properties of the spanning set\n",
    "\n",
    "Consider a set of vectors $ \\mathcal{A} = \\left\\{ v_{1}, \\dots, v_{n} \\right\\}$ and a subspace $\\mathcal{W}$."
   ]
  },
  {
   "cell_type": "markdown",
   "id": "1673fcaf-3d0b-417c-b76f-6e0bcd7096b4",
   "metadata": {
    "tags": []
   },
   "source": [
    "(spanning-set-property-1)=\n",
    "\n",
    "- If $\\mathcal{A}$ is a spanning set of $\\mathcal{W}$, \n",
    "    the new set\n",
    "\n",
    "    $$\n",
    "    \\mathcal{A} \\cup \\left\\{ \n",
    "        u_{1}, \\dots, u_{n}\n",
    "    \\right\\}\n",
    "    $$\n",
    "    \n",
    "    is still a spanning set of $\\mathcal{W}$ for arbitrary vectors $u_{1}, \\dots, u_{n} \\in \\mathcal{W}$."
   ]
  },
  {
   "cell_type": "markdown",
   "id": "af7b34d9-2fa0-4174-8def-6214955b1c03",
   "metadata": {
    "tags": []
   },
   "source": [
    "(spanning-set-property-2)=\n",
    "\n",
    "- $\\mathcal{A}$ is a spanning set of $\\mathcal{W}$ if and only if \n",
    "\n",
    "    - all vectors in $\\mathcal{W}$ are linear combinations of $v_{1}, \\dots, v_{n}$ and\n",
    "    \n",
    "    - $v_{1}, \\dots, v_{n} \\in \\mathcal{W}$.\n",
    "\n",
    "    :::{prf:proof} necessary and sufficient conditions for a spanning set\n",
    "    :class: dropdown\n",
    "    \n",
    "    Since this statement has \"if and only if\", we first prove in the forward direction.\n",
    "    \n",
    "    If $v_{1}, \\dots, v_{n}$ is a spanning set of $\\mathcal{W}$, \n",
    "    then by the definition of spanning set, \n",
    "    the set of all linear combinations of $v_{1}, \\dots, v_{n}$ is the subspace $\\mathcal{W}$.\n",
    "    \n",
    "    Thus, all vectors in the subspace $\\mathcal{W}$ are the linear combinations of $v_{1}, \\dots, v_{n}$.\n",
    "    \n",
    "    Since every $v_{i}, i = 1, \\dots, n$ is a linear combination of itself, \n",
    "    then $v_{1}, \\dots, v_{n}$ are also in $\\mathcal{W}$.\n",
    "    \n",
    "    Then we prove in the backward direction.\n",
    "    \n",
    "    Since all vectors in $\\mathcal{W}$ are linear combinations of $v_{1}, \\dots, v_{n}$, \n",
    "    by the definition of span,\n",
    "    \n",
    "    $$\n",
    "    \\mathcal{W} \\subseteq \\text{span} (v_{1}, \\dots, v_{n}).\n",
    "    $$\n",
    "    \n",
    "    Since $v_{1}, \\dots, v_{n} \\in \\mathcal{W}$ and the closure property of the subspace, \n",
    "    all linear combinations of $v_{1}, \\dots, v_{n}$ are also in $\\mathcal{W}$, \n",
    "    which means that\n",
    "    \n",
    "    $$\n",
    "    \\text{span} (v_{1}, \\dots, v_{n}) \\subseteq \\mathcal{W}.\n",
    "    $$\n",
    "    \n",
    "    Thus, \n",
    "    \n",
    "    $$\n",
    "    \\mathcal{W} = \\text{span} (v_{1}, \\dots, v_{n}).\n",
    "    $$\n",
    "    \n",
    "    :::"
   ]
  },
  {
   "cell_type": "markdown",
   "id": "95c037bd-46fc-40d8-9b87-7d87503f3552",
   "metadata": {
    "tags": []
   },
   "source": [
    "(spanning-set-property-3)=\n",
    "\n",
    "- If vectors in set $\\mathcal{B}$ are linear combinations of the vectors in $\\mathcal{A}$, \n",
    "    then \n",
    "\n",
    "    $$\n",
    "    \\text{span} (\\mathcal{B}) \\subseteq \\text{span} (\\mathcal{A}).\n",
    "    $$\n",
    "    \n",
    "    :::{prf:proof} $\\text{span} (\\mathcal{B}) \\subseteq \\text{span} (\\mathcal{A})$ if $\\mathcal{B}$ is a linear combination of $\\mathcal{A}$.\n",
    "    :class: dropdown\n",
    "    \n",
    "    We prove by contradiction. \n",
    "    Suppose that the vectors in set $\\mathcal{B}$ are linear combinations of the vectors in $\\mathcal{A}$, \n",
    "    but there exists an vector $v \\in \\text{span} (\\mathcal{B})$ but $v \\notin \\text{span} (\\mathcal{A})$.\n",
    "\n",
    "    Suppose $\\mathcal{A} = \\{ a_{1}, \\dots, a_{n} \\}$.\n",
    "    Since $v \\in \\mathcal{B}$ is a linear combinations of vectors in $\\mathcal{A}$,\n",
    "    there exists a set of coefficients $\\alpha_{1}, \\dots, \\alpha_{n}$ such that \n",
    "    \n",
    "    $$\n",
    "    v = \\sum_{i = 1}^{n} \\alpha_{i} a_{i}.\n",
    "    $$\n",
    "    \n",
    "    which by definition of span means $v \\in \\text{span} (\\mathbf{A})$.\n",
    "    \n",
    "    However, \n",
    "    we assume that $v \\notin \\text{span} (\\mathbf{A})$, \n",
    "    which raises a contradiction.\n",
    "    :::"
   ]
  },
  {
   "cell_type": "markdown",
   "id": "faf9b3a4-02a0-4c8b-8437-412d530cce95",
   "metadata": {
    "tags": []
   },
   "source": [
    "(spanning-set-property-4)=\n",
    "\n",
    "- If $\\text{span} (\\mathcal{A}) = \\mathcal{W}$ and $\\text{span} (\\mathcal{B}) = \\mathcal{U}$, \n",
    "    then \n",
    "\n",
    "    $$\n",
    "    \\text{span} (\\mathcal{A} \\cup \\mathcal{B}) = \\mathcal{W} + \\mathcal{U},\n",
    "    $$\n",
    "    \n",
    "    where \n",
    "    \n",
    "    $$\n",
    "    \\mathcal{W} + \\mathcal{U} = \\left\\{\n",
    "        w + u \\mid w \\in \\mathcal{W}, u \\in \\mathcal{U}\n",
    "    \\right\\}.\n",
    "    $$\n",
    "    \n",
    "    :::{prf:proof} span of the union of spanning sets is sum of the subspaces.\n",
    "    :class: dropdown\n",
    "    \n",
    "    Consider $\\mathcal{A} = \\{ a_{1}, \\dots, a_{n} \\}, \\mathcal{B} = \\{ b_{1}, \\dots, b_{m} \\}$,\n",
    "    then \n",
    "    \n",
    "    $$\n",
    "    \\text{span} (\\mathcal{A} \\cup \\mathcal{B}) = \\left\\{ \n",
    "        \\sum_{i=1}^{n} \\alpha_{i} a_{i} + \\sum_{i=1}^{n} \\beta_{i} b_{i}, \\forall \\alpha_{i}, \\beta_{i} \\in \\mathbb{F}\n",
    "    \\right\\}.\n",
    "    $$\n",
    "    \n",
    "    Note that \n",
    "    \n",
    "    $$\n",
    "    w \\in \\mathcal{W} = \\sum_{i=1}^{n} \\alpha_{i} a_{i}, \\forall \\alpha_{i} \\in \\mathbb{F},\n",
    "    $$\n",
    "    \n",
    "    $$\n",
    "    u \\in \\mathcal{U} = \\sum_{i=1}^{n} \\beta_{i} b_{i}, \\forall \\beta_{i} \\in \\mathbb{F}.\n",
    "    $$\n",
    "    \n",
    "    Thus,\n",
    "    \n",
    "    $$\n",
    "    \\text{span} (\\mathcal{A} \\cup \\mathcal{B}) = \\left\\{\n",
    "        w + u \\mid w \\in \\mathcal{W}, u \\in \\mathcal{U}\n",
    "    \\right\\} = \\mathcal{W} + \\mathcal{U}.\n",
    "    $$\n",
    "    \n",
    "    :::"
   ]
  },
  {
   "cell_type": "markdown",
   "id": "a2f25c0b-b328-4275-a6e6-c31337e37c75",
   "metadata": {
    "tags": []
   },
   "source": [
    "# Linear independence\n",
    "\n",
    "Given a vector space $\\mathcal{V}$ over a field $\\mathbb{F}$, \n",
    "a set of non-zero vectors $v_{1}, \\dots, v_{n} \\in \\mathcal{V}$ is linearly independent when\n",
    "\n",
    "$$\n",
    "\\sum_{i=1}^{n} \\alpha_{i} \\cdot v_{i} = 0 \\iff \\alpha_{i} = 0, i = 1, \\dots, n.\n",
    "$$"
   ]
  },
  {
   "cell_type": "markdown",
   "id": "89d4b276-4f9d-450e-a133-e0e731e52594",
   "metadata": {},
   "source": [
    "## Properties of linear independence "
   ]
  },
  {
   "cell_type": "markdown",
   "id": "3093eccc",
   "metadata": {},
   "source": [
    "- Given a matrix $\\mathbf{A}$ whose columns are vectors $\\mathbf{v}_{1}, \\dots, \\mathbf{v}_{n} \\in \\mathbb{F}^{m}$\n",
    "    the set of vectors $\\mathcal{S} = \\{ \\mathbf{v}_{1}, \\dots, \\mathbf{v}_{n} \\}$  is linearly independent when the null space of $\\mathbf{A}$ only contains $\\mathbf{0} \\in \\mathbb{F}^{n}$.\n",
    "\n",
    "    $$ \n",
    "    N (\\mathbf{A}) = \\left\\{\n",
    "        \\mathbf{0}\n",
    "    \\right\\}\n",
    "    $$\n",
    "\n",
    "    :::{prf:proof}\n",
    "    :class: dropdown\n",
    "\n",
    "    By definition, $N (\\mathbf{A}) = \\{ \\mathbf{0} \\}$ says that the only set of $\\alpha_{1}, \\dots, \\alpha_{n}$ satisfying \n",
    "\n",
    "    $$\n",
    "    \\sum_{i = 1}^{n} \\alpha_{i} \\mathbf{A}_{*, i} = 0\n",
    "    $$\n",
    "\n",
    "    is $\\alpha_{1}, \\dots, \\alpha_{n} = 0$, which is equivalent to saying the columns of $\\mathbf{A}$ are a linearly independent set.\n",
    "\n",
    "    :::"
   ]
  },
  {
   "cell_type": "markdown",
   "id": "23ae2322-71ae-4494-bc0d-799fdfd62edc",
   "metadata": {
    "tags": []
   },
   "source": [
    "- If vectors $v_{1}, \\dots, v_{n} \\in \\mathcal{V}$ are linearly independent and the subspace $\\mathcal{W} = \\text{span} (v_{1}, \\dots, v_{n})$, \n",
    "    the set of field elements $\\{ \\alpha_{1}, \\dots, \\alpha_{n} \\}$ that is paired with the set of vectors $\\{ v_{1}, \\dots, v_{n} \\}$ to represent any vector $u \\in \\mathcal{W}: u = \\sum_{i=1}^{n} \\alpha_{i} v_{i}$ is unique.\n",
    "\n",
    "    :::{prf:proof} unique representation property\n",
    "    :class: dropdown\n",
    "    \n",
    "    Proof by contradiction. \n",
    "    Suppose there is another set of field elements that can be paired with $v_{1}, \\dots, v_{n}$ to represent $u$\n",
    "    \n",
    "    $$\n",
    "    \\left\\{\n",
    "        \\beta_{1}, \\dots, \\beta_{n} \\mid u = \\sum_{i=1}^{n} \\beta_{i} \\cdot v_{i}\n",
    "    \\right\\}.\n",
    "    $$\n",
    "    \n",
    "    Then,\n",
    "    \n",
    "    $$\n",
    "    \\begin{aligned}\n",
    "    \\sum_{i=1}^{n} \\alpha_{i} \\cdot v_{i}\n",
    "    & = \\sum_{i=1}^{n} \\beta_{i} \\cdot v_{i}\n",
    "    \\\\\n",
    "    \\sum_{i=1}^{n} \\alpha_{i} \\cdot v_{i} - \\sum_{i=1}^{n} \\beta_{i} \\cdot v_{i}\n",
    "    & = 0\n",
    "    \\\\\n",
    "    \\sum_{i=1}^{n} (\\alpha_{i} - \\beta_{i}) \\cdot v_{i}\n",
    "    & = 0\n",
    "    \\\\\n",
    "    \\alpha_{i} - \\beta_{i}\n",
    "    & = 0\n",
    "    \\\\\n",
    "    \\alpha_{i} \n",
    "    & = \\beta_{i},\n",
    "    \\end{aligned}\n",
    "    $$\n",
    "    \n",
    "    which contradicts to the fact $\\alpha_{i}$ and  $\\beta_{i}$ should be different.\n",
    "\n",
    "    :::"
   ]
  },
  {
   "cell_type": "markdown",
   "id": "3c0354b0-5ca2-43a1-88a5-a5da61f70685",
   "metadata": {},
   "source": [
    "## Linear dependence \n",
    "\n",
    "Given a vector space $\\mathcal{V}$ over a field $\\mathbb{F}$, \n",
    "a set of non-zero vectors $v_{1}, \\dots, v_{n} \\in \\mathcal{V}$ is linear dependent when there exists an $\\alpha_{i} \\neq 0$ such that \n",
    "\n",
    "$$\n",
    "\\sum_{i=1}^{n} \\alpha_{i} \\cdot v_{i} = 0.\n",
    "$$"
   ]
  },
  {
   "cell_type": "markdown",
   "id": "2c58d7ec-5a02-4082-9f2d-03b145b43c79",
   "metadata": {},
   "source": [
    "(existence-of-linear-combination)=\n",
    "\n",
    "If a set of vectors $\\{ v_{1}, \\dots, v_{n} \\}$ is linearly dependent, there exists an index $j$ $(1 \\leq j \\leq n)$ such that $v_{j}$ is a linear combination of the rest of the vectors:\n",
    "\n",
    "$$\n",
    "v_{j} = \\sum_{i=1, i \\neq j}^{n} \\alpha_{i} \\cdot v_{i}.\n",
    "$$"
   ]
  },
  {
   "cell_type": "markdown",
   "id": "f7423ffe-3956-48d2-a9d2-b0cae776221f",
   "metadata": {},
   "source": [
    ":::{prf:proof} existence of linear combination\n",
    ":class: dropdown\n",
    "\n",
    "Since the set $\\{ v_{1}, \\dots, v_{n} \\}$ is linearly dependent, there exists an $\\beta_{j} \\neq 0$ $(1 \\leq j \\leq n)$ such that \n",
    "\n",
    "$$\n",
    "\\beta_{1} \\cdot v_{1} + \\dots \\beta_{j} \\cdot v_{j} + \\dots \\beta_{n} \\cdot v_{n} = 0.\n",
    "$$\n",
    "\n",
    "Thus, \n",
    "\n",
    "$$\n",
    "\\begin{aligned}\n",
    "\\beta_{j} \\cdot v_{j} \n",
    "& = - \\sum_{i=1, i \\neq j} \\beta_{i} \\cdot v_{i} \n",
    "\\\\\n",
    "v_{j} \n",
    "& = - \\beta_{j}^{-1} \\cdot \\sum_{i=1, i \\neq j} \\beta_{i} \\cdot v_{i} \n",
    "\\\\\n",
    "v_{j} \n",
    "& = \\sum_{i=1, i \\neq j} - \\beta_{j}^{-1} \\beta_{i} \\cdot v_{i} \n",
    "\\\\\n",
    "v_{j} \n",
    "& = \\sum_{i=1, i \\neq j} \\alpha_{i} \\cdot v_{i} \n",
    "& [\\text{rewrite } - \\beta_{j}^{-1} \\beta_{i} = \\alpha_{i}]\n",
    "\\\\\n",
    "\\end{aligned}\n",
    "$$\n",
    "\n",
    ":::"
   ]
  }
 ],
 "metadata": {
  "kernelspec": {
   "display_name": "Python 3 (ipykernel)",
   "language": "python",
   "name": "python3"
  },
  "language_info": {
   "codemirror_mode": {
    "name": "ipython",
    "version": 3
   },
   "file_extension": ".py",
   "mimetype": "text/x-python",
   "name": "python",
   "nbconvert_exporter": "python",
   "pygments_lexer": "ipython3",
   "version": "3.10.7"
  },
  "toc-autonumbering": true,
  "toc-showcode": false,
  "toc-showmarkdowntxt": false
 },
 "nbformat": 4,
 "nbformat_minor": 5
}
